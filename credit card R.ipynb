{
 "cells": [
  {
   "cell_type": "code",
   "execution_count": null,
   "metadata": {},
   "outputs": [],
   "source": [
    "###Clear The Buffer By Removing Pre-Built Variables#######\n",
    "install.packages(\"caret\")"
   ]
  },
  {
   "cell_type": "code",
   "execution_count": null,
   "metadata": {},
   "outputs": [],
   "source": [
    "install.packages(\"mlbench\")"
   ]
  },
  {
   "cell_type": "code",
   "execution_count": null,
   "metadata": {},
   "outputs": [],
   "source": [
    "library(caret)\n",
    "\n",
    "library(ggplot2)\n",
    "\n",
    "library(mlbench)"
   ]
  },
  {
   "cell_type": "code",
   "execution_count": null,
   "metadata": {},
   "outputs": [],
   "source": [
    "#rm(list=ls())\n",
    "\n",
    "############ Loading Packages##########\n",
    "#Load Libraries\n",
    "x = c(\"ggplot2\", \"corrgram\",'DMwR','labeling')"
   ]
  },
  {
   "cell_type": "code",
   "execution_count": null,
   "metadata": {},
   "outputs": [],
   "source": [
    "lapply(x, require, character.only = TRUE)\n",
    "rm(x)"
   ]
  },
  {
   "cell_type": "code",
   "execution_count": null,
   "metadata": {},
   "outputs": [],
   "source": [
    "#install.packages(\"scater\",\"ggsignif\",\"tidyverse\",\"cluster\",\"factoextra\")\n",
    "\n",
    "library(ggsignif)\n",
    "library(tidyverse)  # data manipulation\n",
    "library(cluster)    # clustering algorithms\n",
    "library(factoextra) # clustering algorithms & visualization"
   ]
  },
  {
   "cell_type": "code",
   "execution_count": null,
   "metadata": {},
   "outputs": [],
   "source": [
    "####### Set Working Directory ######\n",
    "\n",
    "rm(list=ls(all=T))\n",
    "\n",
    "## Read the data\n",
    "credit_a <- read.csv(\"credit-card-data.csv\",header = TRUE)\n",
    "\n",
    "#Removing the Cust_ID Column as It Is Categorical Variable and not useful for our analysis (Non-Numeric)\n",
    "credit <- credit_a[,-1]"
   ]
  },
  {
   "cell_type": "code",
   "execution_count": null,
   "metadata": {},
   "outputs": [],
   "source": [
    "View(credit_a)"
   ]
  },
  {
   "cell_type": "code",
   "execution_count": null,
   "metadata": {},
   "outputs": [],
   "source": [
    "dim(credit)"
   ]
  },
  {
   "cell_type": "code",
   "execution_count": null,
   "metadata": {},
   "outputs": [],
   "source": [
    "colnames(credit)"
   ]
  },
  {
   "cell_type": "code",
   "execution_count": null,
   "metadata": {},
   "outputs": [],
   "source": [
    "str(credit)"
   ]
  },
  {
   "cell_type": "code",
   "execution_count": null,
   "metadata": {},
   "outputs": [],
   "source": [
    "####################################\n",
    "di <- describe(credit)\n",
    "di"
   ]
  },
  {
   "cell_type": "code",
   "execution_count": null,
   "metadata": {},
   "outputs": [],
   "source": [
    "############ Find the range of frequency variable in dataset #############\n",
    "range(credit$BALANCE_FREQUENCY)#0-1\n",
    "range(credit$PURCHASES_FREQUENCY)#0-1\n",
    "range(credit$ONEOFF_PURCHASES_FREQUENCY)#0-1\n",
    "range(credit$PURCHASES_INSTALLMENTS_FREQUENCY)#0-1\n",
    "range(credit$CASH_ADVANCE_FREQUENCY)"
   ]
  },
  {
   "cell_type": "code",
   "execution_count": null,
   "metadata": {},
   "outputs": [],
   "source": [
    "########## Replace the freq >1 with 1 ############\n",
    "credit$CASH_ADVANCE_FREQUENCY[credit$CASH_ADVANCE_FREQUENCY > 1] <- 1\n",
    "\n",
    "library(Hmisc)\n",
    "di <- describe(credit)\n",
    "di"
   ]
  },
  {
   "cell_type": "code",
   "execution_count": null,
   "metadata": {},
   "outputs": [],
   "source": [
    "##################################Missing Values Analysis###############################################\n",
    "missing_val = data.frame(apply(credit,2,function(x){sum(is.na(x))}))\n",
    "\n",
    "missing_val$Columns = row.names(missing_val)\n",
    "names(missing_val)[1] =  \"Missing_percentage\"\n",
    "missing_val$Missing_percentage = (missing_val$Missing_percentage/nrow(credit)) * 100\n",
    "missing_val = missing_val[order(-missing_val$Missing_percentage),]\n",
    "row.names(missing_val) = NULL\n",
    "missing_val = missing_val[,c(2,1)]\n",
    "write.csv(missing_val, \"Miising_perc.csv\", row.names = F)"
   ]
  },
  {
   "cell_type": "code",
   "execution_count": null,
   "metadata": {},
   "outputs": [],
   "source": [
    "####################################################################################\n",
    "\n",
    "ggplot(data = missing_val[1:3,], aes(x=reorder(Columns, -Missing_percentage),y = Missing_percentage))+\n",
    "   geom_bar(stat = \"identity\",fill = \"grey\")+xlab(\"Parameter\")+\n",
    "   ggtitle(\"Missing data percentage (Train)\") + theme_bw()"
   ]
  },
  {
   "cell_type": "code",
   "execution_count": null,
   "metadata": {},
   "outputs": [],
   "source": [
    "############################### Missing value Impuatation ################################\n",
    "\n",
    "#Mean Method\n",
    "#credit$MINIMUM_PAYMENTS[is.na(credit$MINIMUM_PAYMENTS)] = mean(credit$MINIMUM_PAYMENTS, na.rm = T)\n",
    "#credit$CREDIT_LIMIT[is.na(credit$CREDIT_LIMIT)] = mean(credit$CREDIT_LIMIT, na.rm = T)\n",
    "\n",
    "#Median Method\n",
    "#credit$MINIMUM_PAYMENTS[is.na(credit$MINIMUM_PAYMENTS)] = median(credit$MINIMUM_PAYMENTS, na.rm = T)\n",
    "#credit$CREDIT_LIMIT[is.na(credit$CREDIT_LIMIT)] = median(credit$CREDIT_LIMIT, na.rm = T)\n",
    "\n",
    "\n",
    "# kNN Imputation\n",
    "credit = knnImputation(credit, k = 4)"
   ]
  },
  {
   "cell_type": "code",
   "execution_count": null,
   "metadata": {},
   "outputs": [],
   "source": [
    "#Check Missing value after KNN Imputation\n",
    "missing_val_Check = data.frame(apply(credit,2,function(x){sum(is.na(x))}))\n",
    "missing_val_Check$Columns = row.names(missing_val_Check)\n",
    "names(missing_val_Check)[1] =  \"Sum_of_Missing_Values\"\n",
    "missing_val_Check\n",
    "###############################################################"
   ]
  },
  {
   "cell_type": "code",
   "execution_count": null,
   "metadata": {},
   "outputs": [],
   "source": [
    "#Taking a copy of credit\n",
    "cc2=credit\n",
    "# Box plot to analyze the outliers in given dataset\n",
    "boxplot(cc2[,1:5],par(cex.lab=0.5))\n",
    "boxplot(cc2[,6:11],par(cex.lab=0.5))\n",
    "boxplot(cc2[,12:17],par(cex.lab=0.5))"
   ]
  },
  {
   "cell_type": "code",
   "execution_count": null,
   "metadata": {},
   "outputs": [],
   "source": [
    "#derived KPI's variables\n",
    "\n",
    "cc2$monthly_avg_purchase <- cc2$PURCHASES/cc2$TENURE\n",
    "cc2$monthly_cash_advance <- cc2$CASH_ADVANCE/cc2$TENURE      #how do i do it with mutate fn at once?\n",
    "cc2$limit_usage <- cc2$BALANCE/cc2$CREDIT_LIMIT\n",
    "\n",
    "cc2$purchase_type <- ifelse(cc2$ONEOFF_PURCHASES==0 & cc2$INSTALLMENTS_PURCHASES==0,'NONE',\n",
    "                            ifelse(cc2$ONEOFF_PURCHASES>0 & cc2$INSTALLMENTS_PURCHASES==0,'one_off',\n",
    "                                   ifelse(cc2$ONEOFF_PURCHASES==0 & cc2$INSTALLMENTS_PURCHASES>0,'installment',\n",
    "                                          ifelse(cc2$ONEOFF_PURCHASES>0 & cc2$INSTALLMENTS_PURCHASES>0,'both','NA'))))\n",
    "cc2$purchase_type_none <- ifelse(cc2$purchase_type=='NONE',1,0)\n",
    "cc2$purchase_type_one_off <- ifelse(cc2$purchase_type=='one_off',1,0)\n",
    "cc2$purchase_type_installment <- ifelse(cc2$purchase_type=='installment',1,0)\n",
    "cc2$purchase_type_both <- ifelse(cc2$purchase_type=='both',1,0)\n",
    "\n",
    "\n",
    "cc2$payment_minpayment <- cc2$PAYMENTS/cc2$MINIMUM_PAYMENTS    \n",
    "cc2$TENURE <- as.numeric(cc2$TENURE)"
   ]
  },
  {
   "cell_type": "code",
   "execution_count": null,
   "metadata": {},
   "outputs": [],
   "source": [
    "####### droping Purchase type (categorical) avriable ########\n",
    "\n",
    "cc2 <- cc2[,-21]"
   ]
  },
  {
   "cell_type": "code",
   "execution_count": null,
   "metadata": {},
   "outputs": [],
   "source": [
    "#----------Take a copy of cc2-------\n",
    "cre_original <- cc2"
   ]
  },
  {
   "cell_type": "code",
   "execution_count": null,
   "metadata": {},
   "outputs": [],
   "source": [
    "##############\n",
    "####  Extreme value Treatment\n",
    "####  Since there are variables having extreme values so I am doing \n",
    "####  log-transformation on the dataset to remove outlier effect \n",
    "\n",
    "cc2_log = (log(cc2 + 1 ))\n",
    "#---------- Deleting the features used in deriving KPI's \n",
    "\n",
    "cc2_subset = subset(cc2_log, select = -c(BALANCE,PURCHASES,CASH_ADVANCE,TENURE,\n",
    "                                     PAYMENTS,MINIMUM_PAYMENTS,CREDIT_LIMIT))"
   ]
  },
  {
   "cell_type": "code",
   "execution_count": null,
   "metadata": {},
   "outputs": [],
   "source": [
    "#---------------------------------------------Feature selection--------------------------------\n",
    "corrm <- cor(cc2_subset)\n",
    "\n",
    "corrgram( cc2_subset, order = F,\n",
    "          upper.panel=panel.pie, text.panel=panel.txt, main = \"Correlation Plot\")"
   ]
  },
  {
   "cell_type": "code",
   "execution_count": null,
   "metadata": {},
   "outputs": [],
   "source": [
    "#-----------Correlation Plot---------------------\n",
    "\n",
    "cr_dummy=subset(cc2_subset, select = -c(ONEOFF_PURCHASES_FREQUENCY,PURCHASES_INSTALLMENTS_FREQUENCY,\n",
    "                     CASH_ADVANCE_FREQUENCY,PURCHASES_FREQUENCY,PURCHASES_TRX,CASH_ADVANCE_TRX))"
   ]
  },
  {
   "cell_type": "code",
   "execution_count": null,
   "metadata": {},
   "outputs": [],
   "source": [
    "#-------Shape of cr_dummy\n",
    "\n",
    "dim(cr_dummy)"
   ]
  },
  {
   "cell_type": "code",
   "execution_count": null,
   "metadata": {},
   "outputs": [],
   "source": [
    "#------ cr_dummy contains all the variables that will be used for clustering\n",
    "\n",
    "Scaled_data<- data.frame(scale(cr_dummy))"
   ]
  },
  {
   "cell_type": "code",
   "execution_count": null,
   "metadata": {},
   "outputs": [],
   "source": [
    "#------- Performing PCA\n",
    "\n",
    "Scaled_data_pca <- prcomp(Scaled_data, center = TRUE)\n",
    "\n",
    "summary(Scaled_data_pca)"
   ]
  },
  {
   "cell_type": "code",
   "execution_count": null,
   "metadata": {},
   "outputs": [],
   "source": [
    "#-------Scree Plot---------------------\n",
    "\n",
    "plot(Scaled_data_pca)\n",
    "screeplot(Scaled_data_pca, type='lines')"
   ]
  },
  {
   "cell_type": "code",
   "execution_count": null,
   "metadata": {},
   "outputs": [],
   "source": [
    "#--------Get the loadings-----------------\n",
    "\n",
    "loadings_df <- data.frame(pc$loadings[,1:5])"
   ]
  },
  {
   "cell_type": "code",
   "execution_count": null,
   "metadata": {},
   "outputs": [],
   "source": [
    "#--------Get the first  principal component for further analysis-----------\n",
    "Credit_PCs <- data.frame(Scaled_data_pca$x[,1:5])\n",
    "\n",
    "#--------Get the dimension of Credit_PCs------------\n",
    "dim(Credit_PCs)"
   ]
  },
  {
   "cell_type": "code",
   "execution_count": null,
   "metadata": {},
   "outputs": [],
   "source": [
    "#------Elbow Method for finding the optimal number of clusters-------\n",
    "#------Plot Total within-clusters sum of squares Plot----------\n",
    "\n",
    "set.seed(123)\n",
    "# Compute and plot wss for k = 2 to k = 15.\n",
    "k.max <- 15\n",
    "data <- Credit_PCs\n",
    "wss <- sapply(1:k.max, \n",
    "              function(k){kmeans(data, k, nstart=50,iter.max = 100 )$tot.withinss})\n",
    "wss\n",
    "plot(1:k.max, wss,\n",
    "     type=\"b\", pch = 19, frame = FALSE, \n",
    "     xlab=\"Number of clusters K\",\n",
    "     ylab=\"Total within-clusters sum of squares\")"
   ]
  },
  {
   "cell_type": "code",
   "execution_count": null,
   "metadata": {},
   "outputs": [],
   "source": [
    "#############################################\n",
    "\n",
    "# function to compute total within-cluster sum of squares\n",
    "#fviz_nbclust(Credit_PCs, kmeans, method = \"wss\", k.max = 24) + theme_minimal() + ggtitle(\"the Elbow Method\")\n",
    "   \n",
    "# Silhouette method\n",
    "fviz_nbclust(Credit_PCs, kmeans, method = \"silhouette\", k.max = 10) "
   ]
  },
  {
   "cell_type": "code",
   "execution_count": null,
   "metadata": {},
   "outputs": [],
   "source": [
    "#building clusters using k-means clustering\n",
    "CreditCluster <- kmeans(Credit_PCs, 4, nstart = 20)\n",
    "CreditCluster"
   ]
  },
  {
   "cell_type": "code",
   "execution_count": null,
   "metadata": {},
   "outputs": [],
   "source": [
    "###Key performance variable selection . here I am taking variables which we will use in deriving new KPI.\n",
    "#We can take all 17 variables but it will be difficult to interpret. So, we are selecting less no of variables.\n",
    "\n",
    "cre_original= subset(cre_original,select= c(PURCHASES_TRX,ONEOFF_PURCHASES,INSTALLMENTS_PURCHASES,monthly_avg_purchase,monthly_cash_advance,limit_usage,CASH_ADVANCE_TRX,\n",
    "         payment_minpayment,purchase_type_both,purchase_type_installment,purchase_type_none,purchase_type_one_off,CREDIT_LIMIT))"
   ]
  },
  {
   "cell_type": "code",
   "execution_count": null,
   "metadata": {},
   "outputs": [],
   "source": [
    "# Conactenating labels found through Kmeans with dataset as column 'Cluster'\n",
    "cre_original$cluster <- as.factor(CreditCluster$cluster)"
   ]
  },
  {
   "cell_type": "code",
   "execution_count": null,
   "metadata": {},
   "outputs": [],
   "source": [
    "#------find the number of customers in each cluster---------\n",
    "as.data.frame(table(CreditCluster$cluster))"
   ]
  },
  {
   "cell_type": "code",
   "execution_count": null,
   "metadata": {},
   "outputs": [],
   "source": [
    "# Mean value gives a good indication of the distribution of data. \n",
    "# So we are finding mean value for each variable for each cluster\n",
    "\n",
    "cluster_4<-as.data.frame(aggregate( .~ cluster, FUN=mean, data=cre_original))"
   ]
  },
  {
   "cell_type": "code",
   "execution_count": null,
   "metadata": {},
   "outputs": [],
   "source": [
    "# transpose\n",
    "cluster_4 <- t(cluster_4)"
   ]
  }
 ],
 "metadata": {
  "kernelspec": {
   "display_name": "Python 3",
   "language": "python",
   "name": "python3"
  },
  "language_info": {
   "codemirror_mode": {
    "name": "ipython",
    "version": 3
   },
   "file_extension": ".py",
   "mimetype": "text/x-python",
   "name": "python",
   "nbconvert_exporter": "python",
   "pygments_lexer": "ipython3",
   "version": "3.7.4"
  }
 },
 "nbformat": 4,
 "nbformat_minor": 2
}
